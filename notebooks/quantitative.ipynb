import pandas as pd
import talib
import matplotlib.pyplot as plt

def load_stock_data_from_csv(filepath):
    df = pd.read_csv(filepath)
    
    # Ensure Date is in datetime format and set as index
    df['Date'] = pd.to_datetime(df['Date'])
    df.set_index('Date', inplace=True)
    
    return df


stock_data = load_stock_data_from_csv('../data/AAPL_historical_data.csv')

# Display data samples
print("=== First 5 Rows ===")
print(stock_data.head())

print("\n=== Data Types ===")
print(stock_data.dtypes)

print("\n=== Basic Statistics ===")
print(stock_data.describe())


def validate_stock_data(df):
   
    required_columns = ['Open', 'High', 'Low', 'Close', 'Volume']
    missing = [col for col in required_columns if col not in df.columns]
    
    if missing:
        raise ValueError(f"Missing required columns: {missing}")
    
    print("Data validation passed - all required columns present")
    return True

validate_stock_data(stock_data)
import pandas as pd
import talib
import matplotlib.pyplot as plt
import numpy as np

def load_stock_data(csv_path):
    """Load and prepare stock data from CSV"""
    df = pd.read_csv(csv_path)
    df['Date'] = pd.to_datetime(df['Date'])
    df.set_index('Date', inplace=True)
    return df

def calculate_technical_indicators(df):
    """Calculate all technical indicators"""
    # Moving Averages
    df['SMA_20'] = talib.SMA(df['Close'], timeperiod=20)
    df['EMA_20'] = talib.EMA(df['Close'], timeperiod=20)
    
    # Oscillators
    df['RSI_14'] = talib.RSI(df['Close'], timeperiod=14)
    df['MACD'], df['MACD_Signal'], _ = talib.MACD(df['Close'])
    
    # Bollinger Bands
    df['Upper_Band'], df['Middle_Band'], df['Lower_Band'] = talib.BBANDS(df['Close'])
    
    return df

def calculate_financial_metrics(df):
    """Replicate pynance functionality with numpy/pandas"""
    # Returns
    df['Daily_Return'] = np.log(df['Close'] / df['Close'].shift(1))
    df['Cumulative_Return'] = df['Daily_Return'].cumsum()
    
    # Risk metrics
    df['Volatility_20D'] = df['Daily_Return'].rolling(20).std() * np.sqrt(252)
    df['Sharpe_Ratio'] = df['Daily_Return'].mean() / df['Daily_Return'].std() * np.sqrt(252)
    
    # Rolling alpha (using market mean as benchmark)
    market_mean = df['Close'].mean()
    df['Rolling_Alpha'] = df['Close'].rolling(20).mean() - market_mean
    
    return df

def visualize_results(df, ticker='Stock'):
    """Create comprehensive visualization"""
    plt.figure(figsize=(15, 18))
    
    # Price and Moving Averages
    plt.subplot(3, 1, 1)
    plt.plot(df['Close'], label='Close Price', color='blue')
    plt.plot(df['SMA_20'], label='20-day SMA', color='orange')
    plt.plot(df['EMA_20'], label='20-day EMA', color='green')
    plt.title(f'{ticker} - Price and Moving Averages')
    plt.legend()
    
    # Technical Indicators
    plt.subplot(3, 1, 2)
    plt.plot(df['RSI_14'], label='RSI 14', color='purple')
    plt.axhline(70, color='red', linestyle='--')
    plt.axhline(30, color='green', linestyle='--')
    plt.plot(df['MACD'], label='MACD', color='blue')
    plt.plot(df['MACD_Signal'], label='Signal Line', color='orange')
    plt.title('Technical Indicators')
    plt.legend()
    
    # Financial Metrics
    plt.subplot(3, 1, 3)
    plt.plot(df['Cumulative_Return'], label='Cumulative Returns', color='blue')
    plt.plot(df['Volatility_20D'], label='20D Volatility', color='red')
    plt.title('Financial Metrics')
    plt.legend()
    
    plt.tight_layout()
    plt.show()

if __name__ == "__main__":
    try:
        # Load your data
        data = load_stock_data('../data/AAPL_historical_data.csv')
        
        # Calculate indicators
        data = calculate_technical_indicators(data)
        
        # Calculate metrics
        data = calculate_financial_metrics(data)
        
        # Show results
        print(data.tail())
        visualize_results(data)
        
    except Exception as e:
        print(f"Error: {e}")
